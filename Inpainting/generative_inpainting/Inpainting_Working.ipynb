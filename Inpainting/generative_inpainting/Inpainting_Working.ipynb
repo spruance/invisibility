{
 "cells": [
  {
   "cell_type": "code",
   "execution_count": null,
   "metadata": {},
   "outputs": [
    {
     "name": "stderr",
     "output_type": "stream",
     "text": [
      "\u001b[32m[2018-09-05 18:32:31 @gpus.py:39]\u001b[0m Error reading GPU information, set no GPU.\n"
     ]
    },
    {
     "name": "stdout",
     "output_type": "stream",
     "text": [
      "(511, 640, 3) (511, 640, 3)\n",
      "[[[0 0 0]\n",
      "  [0 0 0]\n",
      "  [0 0 0]\n",
      "  ...\n",
      "  [0 0 0]\n",
      "  [0 0 0]\n",
      "  [0 0 0]]\n",
      "\n",
      " [[0 0 0]\n",
      "  [0 0 0]\n",
      "  [0 0 0]\n",
      "  ...\n",
      "  [0 0 0]\n",
      "  [0 0 0]\n",
      "  [0 0 0]]\n",
      "\n",
      " [[0 0 0]\n",
      "  [0 0 0]\n",
      "  [0 0 0]\n",
      "  ...\n",
      "  [0 0 0]\n",
      "  [0 0 0]\n",
      "  [0 0 0]]\n",
      "\n",
      " ...\n",
      "\n",
      " [[0 0 0]\n",
      "  [0 0 0]\n",
      "  [0 0 0]\n",
      "  ...\n",
      "  [0 0 0]\n",
      "  [0 0 0]\n",
      "  [0 0 0]]\n",
      "\n",
      " [[0 0 0]\n",
      "  [0 0 0]\n",
      "  [0 0 0]\n",
      "  ...\n",
      "  [0 0 0]\n",
      "  [0 0 0]\n",
      "  [0 0 0]]\n",
      "\n",
      " [[0 0 0]\n",
      "  [0 0 0]\n",
      "  [0 0 0]\n",
      "  ...\n",
      "  [0 0 0]\n",
      "  [0 0 0]\n",
      "  [0 0 0]]]\n"
     ]
    },
    {
     "data": {
      "image/png": "[encoded data removed]",
      "text/plain": [
       "<Figure size 432x288 with 1 Axes>"
      ]
     },
     "metadata": {},
     "output_type": "display_data"
    },
    {
     "data": {
      "image/png": "[encoded data removed]",
      "text/plain": [
       "<Figure size 432x288 with 1 Axes>"
      ]
     },
     "metadata": {},
     "output_type": "display_data"
    },
    {
     "name": "stdout",
     "output_type": "stream",
     "text": [
      "Shape of image: (504, 640, 3)\n",
      "(1, 504, 640, 3)\n",
      "Tensor(\"Const_16:0\", shape=(1, 504, 1280, 3), dtype=float32)\n",
      "Tensor(\"concat_8:0\", shape=(1, 504, 640, 5), dtype=float32) 32\n",
      "Model loaded.\n"
     ]
    }
   ],
   "source": [
    "import argparse\n",
    "\n",
    "import cv2, os\n",
    "import numpy as np\n",
    "import tensorflow as tf\n",
    "import neuralgym as ng\n",
    "import matplotlib.pyplot as plt\n",
    "from inpaint_model import InpaintCAModel\n",
    "# imgfolder='examples\\\\places2'\n",
    "# imageloc = imgfolder + os.sep + 'building_input.png'\n",
    "# maskloc = imgfolder + os.sep + 'building_mask.png'\n",
    "\n",
    "imgfolder='..//..//resources'\n",
    "imageloc = imgfolder + os.sep + '5951960966_d4e1cda5d0_z_2.jpg'\n",
    "maskloc = imgfolder + os.sep + '5951960966_d4e1cda5d0_zmask.png'\n",
    "\n",
    "\n",
    "checkpoint_dir = 'model_logs\\\\release_places2_256'\n",
    "\n",
    "ng.get_gpus(1)\n",
    "\n",
    "model = InpaintCAModel()\n",
    "image = cv2.imread(imageloc)\n",
    "mask = cv2.imread(maskloc)\n",
    "print(image.shape, mask.shape)\n",
    "assert image.shape == mask.shape\n",
    "print(mask)\n",
    "h, w, _ = image.shape\n",
    "grid = 8\n",
    "image = image[:h//grid*grid, :w//grid*grid, :]\n",
    "mask = mask[:h//grid*grid, :w//grid*grid, :]\n",
    "plt.imshow(mask)\n",
    "plt.show()\n",
    "\n",
    "kernel = np.ones((10,10),np.uint8)\n",
    "mask = cv2.dilate(mask,kernel,iterations = 1)\n",
    "plt.imshow(mask)\n",
    "plt.show()\n",
    "\n",
    "print('Shape of image: {}'.format(image.shape))\n",
    "image = np.expand_dims(image, 0)\n",
    "mask = np.expand_dims(mask, 0)\n",
    "print(image.shape)\n",
    "input_image = np.concatenate([image, mask], axis=2)\n",
    "\n",
    "sess_config = tf.ConfigProto()\n",
    "sess_config.gpu_options.allow_growth = True\n",
    "with tf.Session(config=sess_config) as sess:\n",
    "    input_image = tf.constant(input_image, dtype=tf.float32)\n",
    "    print(input_image)\n",
    "    output = model.build_server_graph(input_image, reuse=True)\n",
    "    output = (output + 1.) * 127.5\n",
    "    output = tf.reverse(output, [-1])\n",
    "    output = tf.saturate_cast(output, tf.uint8)\n",
    "    # load pretrained model\n",
    "    vars_list = tf.get_collection(tf.GraphKeys.GLOBAL_VARIABLES)\n",
    "    assign_ops = []\n",
    "    for var in vars_list:\n",
    "        vname = var.name\n",
    "        from_name = vname\n",
    "        var_value = tf.contrib.framework.load_variable(checkpoint_dir, from_name)\n",
    "        assign_ops.append(tf.assign(var, var_value))\n",
    "    sess.run(assign_ops)\n",
    "    print('Model loaded.')\n",
    "    result = sess.run(output)\n",
    "    cv2.imwrite('..\\\\..\\\\resources\\\\5951960966_d4e1cda5d0_z_out.png', result[0][:, :, ::-1])"
   ]
  },
  {
   "cell_type": "code",
   "execution_count": null,
   "metadata": {},
   "outputs": [],
   "source": []
  }
 ],
 "metadata": {
  "kernelspec": {
   "display_name": "Python 3",
   "language": "python",
   "name": "python3"
  },
  "language_info": {
   "codemirror_mode": {
    "name": "ipython",
    "version": 3
   },
   "file_extension": ".py",
   "mimetype": "text/x-python",
   "name": "python",
   "nbconvert_exporter": "python",
   "pygments_lexer": "ipython3",
   "version": "3.6.5"
  }
 },
 "nbformat": 4,
 "nbformat_minor": 2
}
